{
 "cells": [
  {
   "cell_type": "code",
   "execution_count": 58,
   "metadata": {},
   "outputs": [],
   "source": [
    "from imutils import contours\n",
    "import numpy as np\n",
    "import imutils\n",
    "import matplotlib.pyplot as plt  \n",
    "%matplotlib inline\n",
    "from imutils.perspective import four_point_transform\n",
    "from imutils import contours\n",
    "import numpy as np\n",
    "import imutils\n",
    "import cv2\n",
    "import csv\n",
    "import os\n",
    "import math"
   ]
  },
  {
   "cell_type": "code",
   "execution_count": 59,
   "metadata": {},
   "outputs": [
    {
     "name": "stdout",
     "output_type": "stream",
     "text": [
      "C:\\Users\\Gautam\\Desktop\\OMR\\RESULTS\n"
     ]
    }
   ],
   "source": [
    "present_dir=os.getcwd()\n",
    "image_dir=present_dir+'\\IMAGES'\n",
    "#\\*png'\n",
    "save_dir=present_dir+'\\RESULTS'\n",
    "print(save_dir)"
   ]
  },
  {
   "cell_type": "code",
   "execution_count": 60,
   "metadata": {},
   "outputs": [],
   "source": [
    "import glob\n",
    "images = [cv2.cvtColor(cv2.imread(file), cv2.COLOR_BGR2RGB) for file in glob.glob(image_dir+r'\\*png')]"
   ]
  },
  {
   "cell_type": "code",
   "execution_count": 61,
   "metadata": {},
   "outputs": [
    {
     "data": {
      "text/plain": [
       "3"
      ]
     },
     "execution_count": 61,
     "metadata": {},
     "output_type": "execute_result"
    }
   ],
   "source": [
    "len(images)"
   ]
  },
  {
   "cell_type": "code",
   "execution_count": null,
   "metadata": {},
   "outputs": [],
   "source": []
  },
  {
   "cell_type": "code",
   "execution_count": 62,
   "metadata": {},
   "outputs": [],
   "source": [
    "def prepare_answer_key(num_q):\n",
    "    np.random.seed(5)\n",
    "    ANSWER_KEY={}\n",
    "    for i in range(num_q):\n",
    "        ANSWER_KEY[i]=\"NA\"\n",
    "    ans=np.random.randint(low=0, high=4, size=num_q)\n",
    "    for i in range(num_q):\n",
    "        ANSWER_KEY[i]=ans[i]\n",
    "    return ANSWER_KEY"
   ]
  },
  {
   "cell_type": "code",
   "execution_count": null,
   "metadata": {},
   "outputs": [],
   "source": []
  },
  {
   "cell_type": "code",
   "execution_count": 63,
   "metadata": {},
   "outputs": [],
   "source": [
    "def remove_shadows(gray_scale):\n",
    "    rgb_planes=cv2.split(gray_scale)\n",
    "    result_planes = []\n",
    "    result_norm_planes = []\n",
    "    for plane in rgb_planes:\n",
    "        dilated_img = cv2.dilate(plane, np.ones((7,7), np.uint8))\n",
    "        bg_img = cv2.medianBlur(dilated_img, 21)\n",
    "        diff_img = 255 - cv2.absdiff(plane, bg_img)\n",
    "        norm_img=np.ones(shape=diff_img.shape)\n",
    "        norm_img=cv2.normalize(diff_img,norm_img, alpha=0, beta=255, norm_type=cv2.NORM_MINMAX)\n",
    "        result_planes.append(diff_img)\n",
    "        result_norm_planes.append(norm_img)\n",
    "    result = cv2.merge(result_planes)\n",
    "    return cv2.merge(result_norm_planes)\n"
   ]
  },
  {
   "cell_type": "code",
   "execution_count": 64,
   "metadata": {},
   "outputs": [],
   "source": [
    "def get_answers(questionCnts, thresh, ANSWER_KEY,paper):\n",
    "    ans_array=[]\n",
    "    for (q, i) in enumerate(np.arange(0, len(questionCnts), 4)):\n",
    "        \n",
    "\n",
    "        cnts = contours.sort_contours(questionCnts[i:i + 4])[0]\n",
    "        bubbled = None\n",
    "        flag=False\n",
    "\n",
    "        for (j, c) in enumerate(cnts):\n",
    "\n",
    "            mask = np.zeros(thresh.shape, dtype=\"uint8\")\n",
    "            cv2.drawContours(mask, [c], -1, 255, -1)\n",
    "\n",
    "\n",
    "            mask = cv2.bitwise_and(thresh, thresh, mask=mask)\n",
    "            total = cv2.countNonZero(mask)\n",
    "\n",
    "            if (flag and total>135): ##eariler 135\n",
    "                bubbled=None\n",
    "                break\n",
    "            if(total>135):\n",
    "                flag=True\n",
    "\n",
    "            if(total>135):\n",
    "                bubbled=(total,j)\n",
    "\n",
    "        color = (0, 0, 255)\n",
    "        k = ANSWER_KEY[q]\n",
    "\n",
    "        if bubbled and k == bubbled[1]:\n",
    "            color = (0, 255, 0)\n",
    "            \n",
    "            ans_array.append(k)       \n",
    "        elif not bubbled:\n",
    "            ans_array.append(\"NA\")\n",
    "        elif bubbled and k!=bubbled[1]:\n",
    "            ans_array.append(bubbled[1])  \n",
    "\n",
    "        cv2.drawContours(paper, [cnts[k]], -1, color, 3)\n",
    "    return ans_array"
   ]
  },
  {
   "cell_type": "code",
   "execution_count": 65,
   "metadata": {},
   "outputs": [],
   "source": [
    "def get_master(TopBox, thresh):   \n",
    "    Master=[]\n",
    "    for i in range(0,120,12):\n",
    "        cnts=contours.sort_contours(TopBox[i:i+12])[0]\n",
    "        for(j, c) in enumerate(cnts):            \n",
    "            mask = np.zeros(thresh.shape, dtype=\"uint8\")\n",
    "            cv2.drawContours(mask, [c], -1, 255, -1)\n",
    "\n",
    "            mask = cv2.bitwise_and(thresh, thresh, mask=mask)\n",
    "            total = cv2.countNonZero(mask)\n",
    "            \n",
    "            if(total>135):\n",
    "                Master.append(1)\n",
    "            else:\n",
    "                Master.append(0)\n",
    "    return Master\n",
    "    "
   ]
  },
  {
   "cell_type": "code",
   "execution_count": 66,
   "metadata": {},
   "outputs": [],
   "source": [
    "def get_roll_number(ROLL_NO, thresh):\n",
    "    roll=[]\n",
    "    count=-1;\n",
    "    idx=0\n",
    "    X_encounter=False\n",
    "    for i in range(0,120, 12):\n",
    "        count+=1;\n",
    "        cnts = contours.sort_contours(ROLL_NO[i:i + 10])[0]\n",
    "        bubbled = None\n",
    "        flag=False\n",
    "        for (j, c) in enumerate(cnts):\n",
    "\n",
    "            mask = np.zeros(thresh.shape, dtype=\"uint8\")\n",
    "            cv2.drawContours(mask, [c], -1, 255, -1)\n",
    "\n",
    "            mask = cv2.bitwise_and(thresh, thresh, mask=mask)\n",
    "            total = cv2.countNonZero(mask)\n",
    "\n",
    "            if (flag and total>135): ##135\n",
    "                bubbled=None\n",
    "                break\n",
    "            if(total>135):\n",
    "                flag=True\n",
    "            if(total>135):\n",
    "                bubbled=(total,j)\n",
    "            color = (0, 255, 255)\n",
    "        if(bubbled):\n",
    "            roll.append(str(bubbled[1]))\n",
    "        else:\n",
    "            ##roll.append(\"X\")\n",
    "            ##X_encounter=True\n",
    "            continue\n",
    "         \n",
    "    return roll, X_encounter"
   ]
  },
  {
   "cell_type": "code",
   "execution_count": 67,
   "metadata": {},
   "outputs": [],
   "source": [
    "def find_questions(thresh, paper):\n",
    "    cnts = cv2.findContours(thresh.copy(), cv2.RETR_EXTERNAL,cv2.CHAIN_APPROX_SIMPLE)\n",
    "    cnts = imutils.grab_contours(cnts)\n",
    "    questionCnts = []\n",
    "    \n",
    "\n",
    "    for c in cnts:\n",
    "\n",
    "        (x, y, w, h) = cv2.boundingRect(c)\n",
    "        ar = w / float(h)\n",
    "        approx = cv2.approxPolyDP(c,0.01*cv2.arcLength(c,True),True)\n",
    "        area = cv2.contourArea(c) ##earlier 13 and 17\n",
    "        if ((w >= 47 and h >=47) and (w<=61 and h<=61) and len(approx)>=8 and ar >= 0.75 and ar <= 1.2): ##make it 18 22 when circles have been resized\n",
    "            questionCnts.append(c)\n",
    "    return questionCnts"
   ]
  },
  {
   "cell_type": "code",
   "execution_count": 68,
   "metadata": {},
   "outputs": [],
   "source": [
    "##below function for precision\n",
    "def find_questions_precise(thresh, paper):\n",
    "    cnts = cv2.findContours(thresh.copy(), cv2.RETR_EXTERNAL,cv2.CHAIN_APPROX_SIMPLE)\n",
    "    cnts = imutils.grab_contours(cnts)\n",
    "    questionCnts = []\n",
    "    ## tester=cv2.drawContours(paper.copy(), cnts, -1, (255,0,0), 2)\n",
    "\n",
    "    for c in cnts:\n",
    "\n",
    "        (x, y, w, h) = cv2.boundingRect(c)\n",
    "        ar = w / float(h)\n",
    "        approx = cv2.approxPolyDP(c,0.01*cv2.arcLength(c,True),True)\n",
    "        area = cv2.contourArea(c)\n",
    "        ## print(w, h, ar, len(approx), area)\n",
    "        if ((w >= 13 and h >=13) and (w<=17 and h<=17) and len(approx)>=8 and (area>110 and area<185) and ar >= 0.75 and ar <=1.33):\n",
    "            questionCnts.append(c)\n",
    "    return questionCnts"
   ]
  },
  {
   "cell_type": "code",
   "execution_count": 69,
   "metadata": {},
   "outputs": [],
   "source": [
    "def shuffle_answers(answer, num_q):\n",
    "    temp=[]\n",
    "    if(num_q==30):\n",
    "        for i in range(0,len(answer),2):\n",
    "            temp.append(answer[i])\n",
    "        for i in range(1,len(answer),2):\n",
    "            temp.append(answer[i])\n",
    "    else:\n",
    "        for i in range(0,len(answer),3):\n",
    "            temp.append(answer[i])\n",
    "        for i in range(1,len(answer),3):\n",
    "            temp.append(answer[i])\n",
    "        for i in range(2,len(answer),3):\n",
    "            temp.append(answer[i])\n",
    "    return temp   \n",
    "        "
   ]
  },
  {
   "cell_type": "code",
   "execution_count": 70,
   "metadata": {},
   "outputs": [],
   "source": [
    "def find_edges(edged):\n",
    "    cnts = cv2.findContours(edged.copy(), cv2.RETR_TREE,\n",
    "\tcv2.CHAIN_APPROX_SIMPLE)\n",
    "    cnts = imutils.grab_contours(cnts)\n",
    "    docCnt = None\n",
    "    ok=False\n",
    "\n",
    "# ensure that at least one contour was found\n",
    "    if len(cnts) > 0:\n",
    "\t# sort the contours according to their size in\n",
    "\t# descending order\n",
    "        cnts = sorted(cnts, key=cv2.contourArea, reverse=True)\n",
    " \n",
    "\t# loop over the sorted contours\n",
    "        for c in cnts:\n",
    "\t\t# approximate the contour\n",
    "            peri = cv2.arcLength(c, True)\n",
    "            approx = cv2.approxPolyDP(c,  0.02* peri, True)\n",
    "\n",
    "     \n",
    "\t\t# if our approximated contour has four points,\n",
    "\t\t# then we can assume we have found the paper\n",
    "            if len(approx) == 4:\n",
    "                docCnt = approx            \n",
    "                ok=True\n",
    "                break\n",
    "    return docCnt"
   ]
  },
  {
   "cell_type": "code",
   "execution_count": 77,
   "metadata": {},
   "outputs": [],
   "source": [
    "def get_details(master):\n",
    "    school_id=['X', 'X', 'X', 'X', 'X']\n",
    "    class_id=['X', 'X']\n",
    "    section_id=['X']\n",
    "    roll_no=['X', 'X']\n",
    "    test_id=['X', 'X']\n",
    "    \n",
    "    for offset in range(0,5):\n",
    "        flag=False\n",
    "        for i in range(0+offset, 109+offset, 12):\n",
    "            print(i, master[i])\n",
    "            if(master[i]==1 and flag==True):\n",
    "                school_id[offset]='X'\n",
    "                break\n",
    "            if(master[i]==1):\n",
    "                flag=True\n",
    "                school_id[offset]=math.floor((i-offset)/12)\n",
    "    \n",
    "    for offset in range(0,2):\n",
    "        flag=False\n",
    "        for i in range(5+offset, 114+offset, 12):\n",
    "            if(master[i]==1 and flag==True):\n",
    "                roll_no[offset]='X'\n",
    "                break\n",
    "            if(master[i]==1):\n",
    "                flag=True\n",
    "                roll_no[offset]=math.floor((i-5-offset)/12)\n",
    "    \n",
    "    for offset in range(0,2):\n",
    "        flag=False\n",
    "        for i in range(7+offset, 115+offset, 12):\n",
    "            if(master[i]==1 and flag==True):\n",
    "                test_id[offset]='X'\n",
    "                break\n",
    "            if(master[i]==1):\n",
    "                flag=True\n",
    "                test_id[offset]=math.floor((i-7-offset)/12)\n",
    "                \n",
    "    for offset in range(0,2):\n",
    "        flag=False\n",
    "        for i in range(9+offset, 118+offset, 12):\n",
    "            if(master[i]==1 and flag==True):\n",
    "                class_id[offset]='X'\n",
    "                break\n",
    "            if(master[i]==1):\n",
    "                flag=True\n",
    "                class_id[offset]=math.floor((i-9-offset)/12)\n",
    "                \n",
    "    for offset in range(0,1):\n",
    "        flag=False\n",
    "        for i in range(11+offset, 120+offset, 12):\n",
    "            if(master[i]==1 and flag==True):\n",
    "                section_id[offset]='X'\n",
    "                break\n",
    "            if(master[i]==1):\n",
    "                flag=True\n",
    "                section_id[offset]=chr(math.floor((i-10-offset)/12)+ord('A'))\n",
    "                \n",
    "    return school_id, roll_no, test_id, class_id, section_id"
   ]
  },
  {
   "cell_type": "code",
   "execution_count": 78,
   "metadata": {},
   "outputs": [],
   "source": [
    "def checkX(school_id, class_id, section_id, roll_no, test_id):\n",
    "    for x in school_id:\n",
    "        if (x=='X'):\n",
    "            return True\n",
    "    for x in class_id:\n",
    "        if(x=='X'):\n",
    "            return True\n",
    "    for x in section_id:\n",
    "        if(x=='X'):\n",
    "            return True\n",
    "    for x in roll_no:\n",
    "        if(x=='X'):\n",
    "            return True\n",
    "    for x in test_id:\n",
    "        if(x=='X'):\n",
    "            return True\n",
    "    return False"
   ]
  },
  {
   "cell_type": "code",
   "execution_count": 79,
   "metadata": {},
   "outputs": [],
   "source": [
    "def evaluate_image_batch(images, num_q):\n",
    "    ANSWER_KEY=prepare_answer_key(num_q)\n",
    "    SCHOOL_id=[]\n",
    "    CLASS_id=[]\n",
    "    SECTION_id=[]\n",
    "    ROLL_no=[]\n",
    "    TEST_id=[]\n",
    "    Status=[]\n",
    "    Answers=[]\n",
    "    d=-1\n",
    "    for image in images:\n",
    "        d+=1\n",
    "        X_encountered=False\n",
    "        ## images have to be rotated 90 degrees first\n",
    "        \n",
    "        \n",
    "        image=cv2.cvtColor(image, cv2.COLOR_BGR2RGB)\n",
    "        image=cv2.rotate(image, cv2.ROTATE_90_CLOCKWISE)\n",
    "        gray = cv2.cvtColor(image, cv2.COLOR_BGR2GRAY)\n",
    "        \n",
    "        ##score = cv2.Laplacian(image, cv2.CV_64F).var()\n",
    "        \n",
    "        blurred = cv2.GaussianBlur(gray, (5, 5), 0)\n",
    "        edged = cv2.Canny(blurred, 75, 200)\n",
    "        docCnt=find_edges(edged)\n",
    "        paper = four_point_transform(image, docCnt.reshape(4, 2))\n",
    "        warped = four_point_transform(gray, docCnt.reshape(4, 2))\n",
    "        print(warped.shape[0]/warped.shape[1], d)\n",
    "        ratio=(warped.shape[0]/warped.shape[1])\n",
    "        paper=cv2.resize(paper, (430,600))\n",
    "        warped=cv2.resize(paper, (430,600))\n",
    "        warped=cv2.cvtColor(paper,cv2.COLOR_BGR2GRAY)\n",
    "        warped=remove_shadows(warped)\n",
    "    \n",
    "        \n",
    "# ensure that at least one contour was found            \n",
    "\n",
    "        \n",
    "        thresh = cv2.threshold(warped.copy(), 0, 255,cv2.THRESH_BINARY_INV | cv2.THRESH_OTSU)[1]\n",
    "        \n",
    "        questionCnts=find_questions_precise(thresh,paper)\n",
    "        \n",
    "        \n",
    "        \n",
    "        \n",
    "        if(ratio>=1.44 or len(questionCnts)!=(120+(4*num_q))):\n",
    "            SCHOOL_id.append(\"Flagged\")\n",
    "            CLASS_id.append(\"Flagged\")\n",
    "            SECTION_id.append(\"Flagged\")\n",
    "            ROLL_no.append(\"Flagged\")\n",
    "            TEST_id.append(\"Flagged\")\n",
    "            Answers.append(\"Flagged\")\n",
    "            cv2.drawContours(paper, questionCnts, -1, (255,0,100), 3)\n",
    "            cv2.imwrite(save_dir+r\"\\%dquestion_not_detected.jpg\"%d, paper)\n",
    "            Status.append(\"Question Detection/Page Detection Error\")            \n",
    "            continue\n",
    "            \n",
    "            \n",
    "        AllCircles = imutils.contours.sort_contours(questionCnts, method=\"top-to-bottom\")[0]\n",
    "        \n",
    "        TopBox=AllCircles[0:120]\n",
    "        questionCnts=AllCircles[120:]\n",
    "        \n",
    "        \n",
    "        \n",
    "        Master=get_master(TopBox, thresh)\n",
    "        \n",
    "        \n",
    "        '''\n",
    "        if(len(TopBox)!=120 or len(questionCnts)!=(4*num_q)):\n",
    "            print(d)\n",
    "            SCHOOL_id.append(\"Flagged\")\n",
    "            CLASS_id.append(\"Flagged\")\n",
    "            SECTION_id.append(\"Flagged\")\n",
    "            ROLL_no.append(\"Flagged\")\n",
    "            TEST_id.append(\"Flagged\")\n",
    "            Answers.append(\"Flagged\")\n",
    "            cv2.drawContours(paper, questionCnts, -1, (255,0,100), 3)\n",
    "            cv2.imwrite(save_dir+r\"\\%dquestion_not_detected.jpg\"%d, paper)\n",
    "            Status.append(\"Question Detection/Page Detection Error\")\n",
    "            continue\n",
    "            \n",
    "         '''   \n",
    "            \n",
    "        cv2.drawContours(paper, TopBox, -1, (255,0,100), 3)\n",
    "        try:\n",
    "            answers=get_answers(questionCnts, thresh, ANSWER_KEY, paper)\n",
    "        except:\n",
    "            print(d, \"***\")\n",
    "            SCHOOL_id.append(\"Flagged\")\n",
    "            CLASS_id.append(\"Flagged\")\n",
    "            SECTION_id.append(\"Flagged\")\n",
    "            ROLL_no.append(\"Flagged\")\n",
    "            TEST_id.append(\"Flagged\")\n",
    "            Answers.append(\"Flagged\")\n",
    "            cv2.drawContours(paper, questionCnts, -1, (255,0,100), 3)\n",
    "            cv2.imwrite(save_dir+r\"\\%dquestion_not_detected.jpg\"%d, paper)\n",
    "            Status.append(\"Question Detection/Page Detection Error\")            \n",
    "            continue\n",
    "            \n",
    "            \n",
    "        \n",
    "        school_id, roll_no, test_id, class_id, section_id=get_details(Master)\n",
    "        print(school_id, roll_no, test_id, class_id, section_id)    \n",
    "        '''\n",
    "        except:\n",
    "            print(d, \"****\")\n",
    "            SCHOOL_id.append(\"Flagged\")\n",
    "            CLASS_id.append(\"Flagged\")\n",
    "            SECTION_id.append(\"Flagged\")\n",
    "            ROLL_no.append(\"Flagged\")\n",
    "            TEST_id.append(\"Flagged\")\n",
    "            Answers.append(\"Flagged\")\n",
    "            cv2.drawContours(paper, questionCnts, -1, (255,0,100), 3)\n",
    "            cv2.imwrite(save_dir+r\"\\%dquestion_not_detected.jpg\"%d, paper)\n",
    "            Status.append(\"Question Detection/Page Detection Error\")\n",
    "            continue\n",
    "        '''\n",
    "            \n",
    "            \n",
    "            \n",
    "        SCHOOL_id.append(school_id)\n",
    "        CLASS_id.append(class_id)\n",
    "        SECTION_id.append(section_id)\n",
    "        ROLL_no.append(roll_no)\n",
    "        TEST_id.append(test_id)\n",
    "        answers=shuffle_answers(answers, num_q)\n",
    "        Answers.append(answers) \n",
    "        \n",
    "        \n",
    "        X_encountered=checkX(school_id, class_id, section_id, roll_no, test_id)\n",
    "        \n",
    "        if(X_encountered):\n",
    "            Status.append(\"Check X\")\n",
    "        else:\n",
    "            Status.append(\"Success\")\n",
    "        cv2.imwrite(save_dir+r\"\\%dresult.jpg\"%d, paper) \n",
    "        \n",
    "    return SCHOOL_id, CLASS_id, SECTION_id, ROLL_no, TEST_id, Status, Answers"
   ]
  },
  {
   "cell_type": "code",
   "execution_count": 80,
   "metadata": {},
   "outputs": [
    {
     "name": "stdout",
     "output_type": "stream",
     "text": [
      "1.4228028503562946 0\n",
      "0 0\n",
      "12 0\n",
      "24 0\n",
      "36 0\n",
      "48 0\n",
      "60 0\n",
      "72 0\n",
      "84 0\n",
      "96 0\n",
      "108 0\n",
      "1 0\n",
      "13 0\n",
      "25 0\n",
      "37 0\n",
      "49 0\n",
      "61 0\n",
      "73 0\n",
      "85 0\n",
      "97 0\n",
      "109 0\n",
      "2 0\n",
      "14 0\n",
      "26 0\n",
      "38 0\n",
      "50 0\n",
      "62 0\n",
      "74 0\n",
      "86 0\n",
      "98 0\n",
      "110 0\n",
      "3 0\n",
      "15 0\n",
      "27 0\n",
      "39 0\n",
      "51 0\n",
      "63 0\n",
      "75 0\n",
      "87 0\n",
      "99 0\n",
      "111 0\n",
      "4 0\n",
      "16 0\n",
      "28 0\n",
      "40 0\n",
      "52 0\n",
      "64 0\n",
      "76 0\n",
      "88 0\n",
      "100 0\n",
      "112 0\n",
      "['X', 'X', 'X', 'X', 'X'] ['X', 'X'] ['X', 'X'] ['X', 'X'] ['X']\n",
      "1.42080378250591 1\n",
      "0 0\n",
      "12 1\n",
      "24 0\n",
      "36 0\n",
      "48 0\n",
      "60 0\n",
      "72 0\n",
      "84 0\n",
      "96 0\n",
      "108 0\n",
      "1 0\n",
      "13 0\n",
      "25 1\n",
      "37 0\n",
      "49 0\n",
      "61 0\n",
      "73 0\n",
      "85 0\n",
      "97 0\n",
      "109 0\n",
      "2 0\n",
      "14 0\n",
      "26 0\n",
      "38 1\n",
      "50 0\n",
      "62 0\n",
      "74 0\n",
      "86 0\n",
      "98 0\n",
      "110 0\n",
      "3 0\n",
      "15 0\n",
      "27 0\n",
      "39 0\n",
      "51 1\n",
      "63 0\n",
      "75 0\n",
      "87 0\n",
      "99 0\n",
      "111 0\n",
      "4 0\n",
      "16 0\n",
      "28 0\n",
      "40 0\n",
      "52 0\n",
      "64 1\n",
      "76 0\n",
      "88 0\n",
      "100 0\n",
      "112 0\n",
      "[1, 2, 3, 4, 5] [3, 3] [0, 1] [0, 9] ['A']\n",
      "1.4087591240875912 2\n",
      "0 0\n",
      "12 1\n",
      "24 0\n",
      "36 0\n",
      "48 1\n",
      "1 0\n",
      "13 0\n",
      "25 1\n",
      "37 0\n",
      "49 0\n",
      "61 0\n",
      "73 0\n",
      "85 0\n",
      "97 0\n",
      "109 0\n",
      "2 0\n",
      "14 0\n",
      "26 0\n",
      "38 1\n",
      "50 0\n",
      "62 0\n",
      "74 0\n",
      "86 0\n",
      "98 0\n",
      "110 0\n",
      "3 0\n",
      "15 0\n",
      "27 0\n",
      "39 0\n",
      "51 1\n",
      "63 0\n",
      "75 0\n",
      "87 0\n",
      "99 0\n",
      "111 0\n",
      "4 0\n",
      "16 0\n",
      "28 0\n",
      "40 0\n",
      "52 0\n",
      "64 1\n",
      "76 0\n",
      "88 0\n",
      "100 0\n",
      "112 0\n",
      "['X', 2, 3, 4, 5] [3, 3] [0, 1] [0, 9] ['A']\n"
     ]
    }
   ],
   "source": [
    "SCHOOL, CLASS, SECTION, ROLL, TEST_ID, Status, ANSWERS=evaluate_image_batch(images, 50)"
   ]
  },
  {
   "cell_type": "code",
   "execution_count": null,
   "metadata": {},
   "outputs": [],
   "source": []
  },
  {
   "cell_type": "markdown",
   "metadata": {},
   "source": [
    "\n",
    "        print(d, \"out of\" ,len(images), \"processed\")\n",
    "        ans_array=[]\n",
    "        ## image=cv2.cvtColor(image, cv2.COLOR_BGR2RGB)\n",
    "        ## gray=cv2.cvtColor(warped,cv2.COLOR_BGR2GRAY)\n",
    "        edged=edges_det(image,200,250)\n",
    "        edged = cv2.morphologyEx(edged, cv2.MORPH_CLOSE, np.ones((5, 11)))\n",
    "        conts=find_page_contours(edged, resize(image))\n",
    "        contoured=cv2.drawContours(resize(image.copy()), [conts], -1, (0, 255, 0), 3)\n",
    "        conts=conts.dot(ratio(image))\n",
    "        if(conts[0][0]==0):\n",
    "            Roll_numbers.append(\"Flagged\")\n",
    "            Answers.append(\"Flagged\")\n",
    "            cv2.imwrite(r\"C:\\Users\\Gautam\\Desktop\\OMR\\RESULTS\\%dpagenotdetected.jpg\"%d, contoured)\n",
    "            print(d, \"*\")\n",
    "            Status.append(\"Page_Detect_Error\")\n",
    "            continue\n",
    "        paper = persp_transform(image, conts)\n",
    "        warped = persp_transform(gray, conts)\n",
    "        warped=resize(warped)\n",
    "        paper=resize(paper)"
   ]
  },
  {
   "cell_type": "code",
   "execution_count": 81,
   "metadata": {},
   "outputs": [],
   "source": [
    "mapping=list(zip(SCHOOL, CLASS, SECTION, ROLL, TEST_ID, Status, ANSWERS))"
   ]
  },
  {
   "cell_type": "code",
   "execution_count": 82,
   "metadata": {},
   "outputs": [
    {
     "data": {
      "text/html": [
       "<div>\n",
       "<style scoped>\n",
       "    .dataframe tbody tr th:only-of-type {\n",
       "        vertical-align: middle;\n",
       "    }\n",
       "\n",
       "    .dataframe tbody tr th {\n",
       "        vertical-align: top;\n",
       "    }\n",
       "\n",
       "    .dataframe thead th {\n",
       "        text-align: right;\n",
       "    }\n",
       "</style>\n",
       "<table border=\"1\" class=\"dataframe\">\n",
       "  <thead>\n",
       "    <tr style=\"text-align: right;\">\n",
       "      <th></th>\n",
       "      <th>SCHOOL_id</th>\n",
       "      <th>CLASS_id</th>\n",
       "      <th>SECTION_id</th>\n",
       "      <th>ROLL</th>\n",
       "      <th>TEST_id</th>\n",
       "      <th>Status</th>\n",
       "      <th>ANSWERS</th>\n",
       "    </tr>\n",
       "  </thead>\n",
       "  <tbody>\n",
       "    <tr>\n",
       "      <th>0</th>\n",
       "      <td>[X, X, X, X, X]</td>\n",
       "      <td>[X, X]</td>\n",
       "      <td>[X]</td>\n",
       "      <td>[X, X]</td>\n",
       "      <td>[X, X]</td>\n",
       "      <td>Check X</td>\n",
       "      <td>[NA, NA, NA, NA, NA, NA, NA, NA, NA, NA, NA, N...</td>\n",
       "    </tr>\n",
       "    <tr>\n",
       "      <th>1</th>\n",
       "      <td>[1, 2, 3, 4, 5]</td>\n",
       "      <td>[0, 9]</td>\n",
       "      <td>[A]</td>\n",
       "      <td>[3, 3]</td>\n",
       "      <td>[0, 1]</td>\n",
       "      <td>Success</td>\n",
       "      <td>[1, 1, 1, NA, NA, NA, NA, NA, NA, NA, NA, NA, ...</td>\n",
       "    </tr>\n",
       "    <tr>\n",
       "      <th>2</th>\n",
       "      <td>[X, 2, 3, 4, 5]</td>\n",
       "      <td>[0, 9]</td>\n",
       "      <td>[A]</td>\n",
       "      <td>[3, 3]</td>\n",
       "      <td>[0, 1]</td>\n",
       "      <td>Check X</td>\n",
       "      <td>[1, 1, 1, NA, NA, NA, NA, NA, NA, NA, NA, NA, ...</td>\n",
       "    </tr>\n",
       "  </tbody>\n",
       "</table>\n",
       "</div>"
      ],
      "text/plain": [
       "         SCHOOL_id CLASS_id SECTION_id    ROLL TEST_id   Status  \\\n",
       "0  [X, X, X, X, X]   [X, X]        [X]  [X, X]  [X, X]  Check X   \n",
       "1  [1, 2, 3, 4, 5]   [0, 9]        [A]  [3, 3]  [0, 1]  Success   \n",
       "2  [X, 2, 3, 4, 5]   [0, 9]        [A]  [3, 3]  [0, 1]  Check X   \n",
       "\n",
       "                                             ANSWERS  \n",
       "0  [NA, NA, NA, NA, NA, NA, NA, NA, NA, NA, NA, N...  \n",
       "1  [1, 1, 1, NA, NA, NA, NA, NA, NA, NA, NA, NA, ...  \n",
       "2  [1, 1, 1, NA, NA, NA, NA, NA, NA, NA, NA, NA, ...  "
      ]
     },
     "execution_count": 82,
     "metadata": {},
     "output_type": "execute_result"
    }
   ],
   "source": [
    "import pandas as pd\n",
    "df=pd.DataFrame(mapping, columns=['SCHOOL_id','CLASS_id', 'SECTION_id','ROLL', 'TEST_id', 'Status','ANSWERS'])\n",
    "df.head(n=10)"
   ]
  },
  {
   "cell_type": "code",
   "execution_count": 57,
   "metadata": {},
   "outputs": [],
   "source": [
    "df.to_csv(\"Results.csv\")"
   ]
  },
  {
   "cell_type": "markdown",
   "metadata": {},
   "source": [
    "## Mapping explained\n",
    "mapping[i] details for ith student\n",
    "\n",
    "mapping[i][0] is the roll number of ith student in list form\n",
    "\n",
    "mapping[i][1] returns answer array of ith student "
   ]
  },
  {
   "cell_type": "code",
   "execution_count": 20,
   "metadata": {},
   "outputs": [],
   "source": [
    "image = cv2.cvtColor(cv2.imread(r\"C:\\Users\\Gautam\\Desktop\\OMR\\IMAGES\\20190622193251_orig.png\"), cv2.COLOR_BGR2RGB)\n",
    "gray=cv2.cvtColor(image, cv2.COLOR_BGR2GRAY)\n",
    "edged=edges_det(image, 200, 250)\n"
   ]
  },
  {
   "cell_type": "code",
   "execution_count": 21,
   "metadata": {},
   "outputs": [],
   "source": [
    "cv2.imwrite(\"image.jpg\", image)\n",
    "cv2.imwrite(\"gray.jpg\", gray)\n",
    "cv2.imwrite(\"edged.jpg\", edged)\n",
    "edged = cv2.morphologyEx(edged, cv2.MORPH_CLOSE, np.ones((5, 11))) ## closing operation after finding edges close the gaps"
   ]
  },
  {
   "cell_type": "code",
   "execution_count": 22,
   "metadata": {},
   "outputs": [
    {
     "data": {
      "text/plain": [
       "True"
      ]
     },
     "execution_count": 22,
     "metadata": {},
     "output_type": "execute_result"
    }
   ],
   "source": [
    "cv2.imwrite(\"edgedn.jpg\", edged)"
   ]
  },
  {
   "cell_type": "code",
   "execution_count": null,
   "metadata": {},
   "outputs": [],
   "source": [
    "conts=find_page_contours(edged, resize(image))\n",
    "implt(image)\n",
    "image.shape"
   ]
  },
  {
   "cell_type": "code",
   "execution_count": null,
   "metadata": {},
   "outputs": [],
   "source": [
    "contoured=cv2.drawContours((image.copy()), [conts], -1, (0, 255, 0), 3)"
   ]
  },
  {
   "cell_type": "code",
   "execution_count": null,
   "metadata": {},
   "outputs": [],
   "source": [
    "paper=(cv2.rotate(image,rotateCode=cv2.ROTATE_90_CLOCKWISE))\n",
    "warped=(cv2.rotate(gray,rotateCode=cv2.ROTATE_90_CLOCKWISE))"
   ]
  },
  {
   "cell_type": "code",
   "execution_count": null,
   "metadata": {},
   "outputs": [],
   "source": [
    "cv2.imwrite(\"11contouredn.jpg\", contoured)"
   ]
  },
  {
   "cell_type": "code",
   "execution_count": null,
   "metadata": {},
   "outputs": [],
   "source": [
    "implt(paper)"
   ]
  },
  {
   "cell_type": "code",
   "execution_count": null,
   "metadata": {},
   "outputs": [],
   "source": [
    "conts"
   ]
  },
  {
   "cell_type": "code",
   "execution_count": null,
   "metadata": {},
   "outputs": [],
   "source": [
    "conts=conts.dot(ratio(image))"
   ]
  },
  {
   "cell_type": "code",
   "execution_count": null,
   "metadata": {},
   "outputs": [],
   "source": [
    "cv2.imwrite(\"5contoured.jpg\", contoured)"
   ]
  },
  {
   "cell_type": "code",
   "execution_count": null,
   "metadata": {},
   "outputs": [],
   "source": [
    "##paper = persp_transform(image, conts)\n",
    "##warped = persp_transform(gray, conts)"
   ]
  },
  {
   "cell_type": "code",
   "execution_count": null,
   "metadata": {},
   "outputs": [],
   "source": [
    "##paper=image\n",
    "##warped=gray"
   ]
  },
  {
   "cell_type": "markdown",
   "metadata": {},
   "source": [
    "## EXPERIMENTAL LINE"
   ]
  },
  {
   "cell_type": "code",
   "execution_count": null,
   "metadata": {},
   "outputs": [],
   "source": [
    "implt(paper)"
   ]
  },
  {
   "cell_type": "code",
   "execution_count": null,
   "metadata": {},
   "outputs": [],
   "source": [
    "##  cnts = cv2.findContours(warped.copy(),cv2.RETR_EXTERNAL,cv2.CHAIN_APPROX_SIMPLE)[0]\n",
    "## cv2.drawContours(warped, cnts, -1, (0,255,0), 3)"
   ]
  },
  {
   "cell_type": "code",
   "execution_count": null,
   "metadata": {},
   "outputs": [],
   "source": [
    "cv2.imwrite(\"6paper.jpg\", paper)\n",
    "cv2.imwrite(\"7warped.jpg\", warped)\n",
    "##warped=resize(warped)\n",
    "##paper=resize(paper)"
   ]
  },
  {
   "cell_type": "code",
   "execution_count": null,
   "metadata": {},
   "outputs": [],
   "source": [
    "implt(warped)"
   ]
  },
  {
   "cell_type": "markdown",
   "metadata": {},
   "source": [
    "ratio=(warped.shape[1]/warped.shape[0])\n",
    "ratio=np.int0(ratio)\n",
    "upsampled=np.ones(warped.shape)\n",
    "upsampled=cv2.pyrUp(warped, upsampled)"
   ]
  },
  {
   "cell_type": "markdown",
   "metadata": {},
   "source": [
    "upsampled.shape\n",
    "implt(upsampled)"
   ]
  },
  {
   "cell_type": "code",
   "execution_count": null,
   "metadata": {},
   "outputs": [],
   "source": [
    "def remove_shadows(gray_scale):\n",
    "    rgb_planes=cv2.split(gray_scale)\n",
    "    result_planes = []\n",
    "    result_norm_planes = []\n",
    "    for plane in rgb_planes:\n",
    "        dilated_img = cv2.dilate(plane, np.ones((7,7), np.uint8))\n",
    "        bg_img = cv2.medianBlur(dilated_img, 21)\n",
    "        diff_img = 255 - cv2.absdiff(plane, bg_img)\n",
    "        norm_img=np.ones(shape=diff_img.shape)\n",
    "        norm_img=cv2.normalize(diff_img,norm_img, alpha=0, beta=255, norm_type=cv2.NORM_MINMAX)\n",
    "        result_planes.append(diff_img)\n",
    "        result_norm_planes.append(norm_img)\n",
    "    result = cv2.merge(result_planes)\n",
    "    return cv2.merge(result_norm_planes)\n",
    "\n"
   ]
  },
  {
   "cell_type": "code",
   "execution_count": null,
   "metadata": {},
   "outputs": [],
   "source": [
    "warped=remove_shadows(warped)\n",
    "implt(warped)"
   ]
  },
  {
   "cell_type": "code",
   "execution_count": null,
   "metadata": {},
   "outputs": [],
   "source": [
    "warpedcopy=cv2.resize(warped, (430,600))\n",
    "papercopy=cv2.resize(paper, (430,600))"
   ]
  },
  {
   "cell_type": "code",
   "execution_count": null,
   "metadata": {},
   "outputs": [],
   "source": [
    "thresh = cv2.threshold(warpedcopy, 0, 255,cv2.THRESH_BINARY_INV | cv2.THRESH_OTSU)[1]"
   ]
  },
  {
   "cell_type": "code",
   "execution_count": null,
   "metadata": {},
   "outputs": [],
   "source": [
    "## thresherode=cv2.erode(thresh, np.ones((3,3), np.uint8))\n",
    "## threshopen=cv2.dilate(thresherode, np.ones((3,3), np.uint8))"
   ]
  },
  {
   "cell_type": "code",
   "execution_count": null,
   "metadata": {},
   "outputs": [],
   "source": [
    "print(thresh.shape[1])\n",
    "thresh.shape[0]"
   ]
  },
  {
   "cell_type": "code",
   "execution_count": null,
   "metadata": {},
   "outputs": [],
   "source": [
    "cv2.imwrite(\"13eroded.jpg\", thresherode)"
   ]
  },
  {
   "cell_type": "code",
   "execution_count": null,
   "metadata": {},
   "outputs": [],
   "source": []
  },
  {
   "cell_type": "code",
   "execution_count": null,
   "metadata": {},
   "outputs": [],
   "source": []
  },
  {
   "cell_type": "markdown",
   "metadata": {},
   "source": [
    "ratio=(thresh.shape[1]/thresh.shape[0])\n",
    "upsampled=np.ones(thresh.shape)\n",
    "upsampled=cv2.pyrUp(thresh, upsampled, (800, 594))"
   ]
  },
  {
   "cell_type": "markdown",
   "metadata": {},
   "source": [
    "upsampled.shape"
   ]
  },
  {
   "cell_type": "markdown",
   "metadata": {},
   "source": [
    "implt(upsampled)"
   ]
  },
  {
   "cell_type": "markdown",
   "metadata": {},
   "source": []
  },
  {
   "cell_type": "code",
   "execution_count": null,
   "metadata": {},
   "outputs": [],
   "source": [
    "cv2.imwrite(\"8thresh.jpg\", thresh)"
   ]
  },
  {
   "cell_type": "code",
   "execution_count": null,
   "metadata": {},
   "outputs": [],
   "source": [
    "implt(thresh)"
   ]
  },
  {
   "cell_type": "code",
   "execution_count": null,
   "metadata": {},
   "outputs": [],
   "source": [
    "def find_questions(thresh, paper):\n",
    "    cnts = cv2.findContours(thresh.copy(), cv2.RETR_EXTERNAL,cv2.CHAIN_APPROX_SIMPLE)\n",
    "    cnts = imutils.grab_contours(cnts)\n",
    "    questionCnts = []\n",
    "    tester=cv2.drawContours(paper.copy(), cnts, -1, (255,0,0), 2)\n",
    "\n",
    "    for c in cnts:\n",
    "\n",
    "        (x, y, w, h) = cv2.boundingRect(c)\n",
    "        ar = w / float(h)\n",
    "        approx = cv2.approxPolyDP(c,0.01*cv2.arcLength(c,True),True)\n",
    "        area = cv2.contourArea(c)\n",
    "        print(w, h, ar, len(approx), area)\n",
    "        if ((w >= 12 and h >=12) and (w<=16 and h<=16) and (area>90 and area<200) and len(approx)>=8 and ar >= 0.8 and ar <= 1.4):\n",
    "            questionCnts.append(c)\n",
    "    return questionCnts"
   ]
  },
  {
   "cell_type": "code",
   "execution_count": null,
   "metadata": {
    "scrolled": false
   },
   "outputs": [],
   "source": [
    "test_conts=cv2.findContours(thresh.copy(), cv2.RETR_EXTERNAL,cv2.CHAIN_APPROX_SIMPLE)\n",
    "test_conts=imutils.grab_contours(test_conts)\n",
    "tester=cv2.drawContours(paper.copy(), test_conts, -1, (255,0,0), 2)\n",
    "cv2.imwrite(\"tester.jpg\", tester)\n",
    "AllTests=imutils.contours.sort_contours(test_conts, method=\"top-to-bottom\")[0]\n",
    "xyz=[]\n",
    "for c in AllTests:    \n",
    "    (x, y, w, h) = cv2.boundingRect(c)\n",
    "    approx = cv2.approxPolyDP(c,0.01*cv2.arcLength(c,True),True)\n",
    "    area = cv2.contourArea(c)\n",
    "    print(w,h,w/float(h),len(approx), area)\n",
    "        "
   ]
  },
  {
   "cell_type": "code",
   "execution_count": null,
   "metadata": {},
   "outputs": [],
   "source": [
    "questionCnts=find_questions(thresh, paper)\n",
    "AllCircles = imutils.contours.sort_contours(questionCnts, method=\"top-to-bottom\")[0]\n",
    "correct = 0\n",
    "\n",
    "maxm = []\n",
    "##ans_array=[]\n",
    "##roll=[]"
   ]
  },
  {
   "cell_type": "code",
   "execution_count": null,
   "metadata": {},
   "outputs": [],
   "source": [
    "tester2=cv2.drawContours(paper.copy(), xyz, -1, (255,0,0), 2)\n",
    "cv2.imwrite(\"test2.jpg\", tester2)"
   ]
  },
  {
   "cell_type": "code",
   "execution_count": null,
   "metadata": {},
   "outputs": [],
   "source": [
    "ROLL_NO=AllCircles[0:80]\n",
    "questionCnts=AllCircles[80:]"
   ]
  },
  {
   "cell_type": "code",
   "execution_count": null,
   "metadata": {},
   "outputs": [],
   "source": [
    "questionCnts=imutils.contours.sort_contours(questionCnts, method=\"top-to-bottom\")[0]"
   ]
  },
  {
   "cell_type": "code",
   "execution_count": null,
   "metadata": {},
   "outputs": [],
   "source": []
  },
  {
   "cell_type": "code",
   "execution_count": null,
   "metadata": {},
   "outputs": [],
   "source": [
    "num_q=30"
   ]
  },
  {
   "cell_type": "code",
   "execution_count": null,
   "metadata": {},
   "outputs": [],
   "source": [
    "print(len(ROLL_NO))\n",
    "print(len(questionCnts))\n",
    "if(len(ROLL_NO)!=80):\n",
    "    raise Exception(\"All Roll numbers not recognised, please take pic again\")\n",
    "if(len(questionCnts)!=(num_q*4)):\n",
    "    raise Exception(\"All questions not recognised, please take pic again\")"
   ]
  },
  {
   "cell_type": "code",
   "execution_count": null,
   "metadata": {},
   "outputs": [],
   "source": [
    "cv2.drawContours(cv2.resize(paper, (430,600)), ROLL_NO, -1, (255,0,100), 3)\n",
    "cv2.imwrite(\"12rolls.jpg\", paper)"
   ]
  },
  {
   "cell_type": "markdown",
   "metadata": {},
   "source": [
    "## DEBUGGING CELL"
   ]
  },
  {
   "cell_type": "markdown",
   "metadata": {},
   "source": [
    "\n",
    "\n",
    "\n",
    "for (q, i) in enumerate(np.arange(0, len(questionCnts), 4)):\n",
    "\tcount+=1\n",
    "\t# sort the contours for the current question from\n",
    "\t# left to right, then initialize the index of the\n",
    "\t# bubbled answer\n",
    "\tcnts = contours.sort_contours(questionCnts[i:i + 4])[0]\n",
    "\tbubbled = None\n",
    "\tflag=False\n",
    "\t# loop over the sorted contours\n",
    "\tfor (j, c) in enumerate(cnts):\n",
    "\t\t# construct a mask that reveals only the current\n",
    "\t\t# \"bubble\" for the question\n",
    "\t\tmask = np.zeros(thresh.shape, dtype=\"uint8\")\n",
    "\t\tcv2.drawContours(mask, [c], -1, 255, -1)\n",
    "\n",
    "\t\t# apply the mask to the thresholded image, then\n",
    "\t\t# count the number of non-zero pixels in the\n",
    "\t\t# bubble area\n",
    "\t\tmask = cv2.bitwise_and(thresh, thresh, mask=mask)\n",
    "\t\ttotal = cv2.countNonZero(mask)\n",
    "\n",
    "\t\tminm.append(total)\n",
    "          \n",
    "\t\t# if the current total has a larger number of total\n",
    "\t\t# non-zero pixels, then we are examining the currently\n",
    "\t\t# bubbled-in answer\n",
    "\t\tif bubbled is None or total > bubbled[0]:\n",
    "\t\t\tbubbled = (total, j) # What ???\n",
    "\tmaxm.append(bubbled[0])\n",
    "\t# initialize the contour color and the index of the\n",
    "\t# *correct* answer\n",
    "\tcolor = (0, 0, 255)\n",
    "\tk = ANSWER_KEY[q]\n",
    "\tif k == bubbled[1]:\n",
    "\t\t\tcolor = (0, 255, 0)\n",
    "\t\t\tcorrect += 1        \n",
    "\t# check to see if the bubbled answer is correct \n",
    "\t# draw the outline of the correct answer on the test\n",
    "\tcv2.drawContours(paper, [cnts[k]], -1, color, 3)"
   ]
  },
  {
   "cell_type": "markdown",
   "metadata": {},
   "source": [
    "print(minm)\n",
    "for o in minm:\n",
    "    maxm.remove(o)\n",
    "print(maxm)\n"
   ]
  },
  {
   "cell_type": "code",
   "execution_count": null,
   "metadata": {},
   "outputs": [],
   "source": [
    "minm=[]\n",
    "maxm=[]"
   ]
  },
  {
   "cell_type": "code",
   "execution_count": null,
   "metadata": {},
   "outputs": [],
   "source": [
    "def get_answers(questionsCnts, thresh, ANSWER_KEY, ans_array):\n",
    "    for (q, i) in enumerate(np.arange(0, len(questionCnts), 4)):\n",
    "        \n",
    "\n",
    "        cnts = contours.sort_contours(questionCnts[i:i + 4])[0]\n",
    "        bubbled = None\n",
    "        flag=False\n",
    "\n",
    "        for (j, c) in enumerate(cnts):\n",
    "\n",
    "            mask = np.zeros(thresh.shape, dtype=\"uint8\")\n",
    "            cv2.drawContours(mask, [c], -1, 255, -1)\n",
    "\n",
    "\n",
    "            mask = cv2.bitwise_and(thresh, thresh, mask=mask)\n",
    "            total = cv2.countNonZero(mask)\n",
    "            minm.append(total)\n",
    "            if (flag and total>700): ##was 220\n",
    "                bubbled=None\n",
    "                break\n",
    "            if(total>700):\n",
    "                flag=True\n",
    "\n",
    "            if(total>700):\n",
    "                bubbled=(total,j)\n",
    "        \n",
    "        color = (0, 0, 255)\n",
    "        k = ANSWER_KEY[q]\n",
    "\n",
    "        if bubbled and k == bubbled[1]:\n",
    "            color = (0, 255, 0)\n",
    "            ans_array.append(k)       \n",
    "        elif not bubbled:\n",
    "            ans_array.append(\"NA\")\n",
    "        elif bubbled and k!=bubbled[1]:\n",
    "            ans_array.append(bubbled[1])  \n",
    "\n",
    "        cv2.drawContours(papercopy, [cnts[k]], -1, color, 3)\n",
    "    return ans_array"
   ]
  },
  {
   "cell_type": "code",
   "execution_count": null,
   "metadata": {},
   "outputs": [],
   "source": [
    "def get_roll_number(ROLL_NO, thresh):\n",
    "    roll=[]\n",
    "    count=-1;\n",
    "    idx=0\n",
    "    for i in range(0,80, 10):\n",
    "        count+=1;\n",
    "        cnts = contours.sort_contours(ROLL_NO[i:i + 10])[0]\n",
    "        bubbled = None\n",
    "        flag=False\n",
    "        for (j, c) in enumerate(cnts):\n",
    "\n",
    "            mask = np.zeros(thresh.shape, dtype=\"uint8\")\n",
    "            cv2.drawContours(mask, [c], -1, 255, -1)\n",
    "\n",
    "            mask = cv2.bitwise_and(thresh, thresh, mask=mask)\n",
    "            total = cv2.countNonZero(mask)\n",
    "            maxm.append(total)\n",
    "            if (flag and total>700):\n",
    "                bubbled=None\n",
    "                break\n",
    "            if(total>700):\n",
    "                flag=True\n",
    "            if(total>700):\n",
    "                bubbled=(total,j)\n",
    "            color = (0, 255, 255)\n",
    "        if(bubbled):\n",
    "            roll.append(bubbled[1])\n",
    "        else:\n",
    "            roll.append(\"X\")\n",
    "         \n",
    "    return roll"
   ]
  },
  {
   "cell_type": "code",
   "execution_count": null,
   "metadata": {},
   "outputs": [],
   "source": [
    "questions=cv2.drawContours(warpedcopy.copy(), questionCnts, -1, (0,255,0), 3)\n"
   ]
  },
  {
   "cell_type": "code",
   "execution_count": null,
   "metadata": {},
   "outputs": [],
   "source": [
    "cv2.imwrite(\"9questions.jpg\", questions)"
   ]
  },
  {
   "cell_type": "code",
   "execution_count": null,
   "metadata": {},
   "outputs": [],
   "source": [
    "implt(questions)"
   ]
  },
  {
   "cell_type": "code",
   "execution_count": null,
   "metadata": {},
   "outputs": [],
   "source": [
    "\n",
    "ans_array=[]\n",
    "ans_array=get_answers(questionCnts, thresh, ANSWER_KEY, ans_array)\n",
    "roll=get_roll_number(ROLL_NO, thresh)\n",
    "print(ans_array)\n",
    "print(len(ans_array))\n",
    "print(roll)"
   ]
  },
  {
   "cell_type": "code",
   "execution_count": null,
   "metadata": {},
   "outputs": [],
   "source": []
  },
  {
   "cell_type": "code",
   "execution_count": null,
   "metadata": {},
   "outputs": [],
   "source": [
    "score = (correct / len(questionCnts)) * 100\n",
    "print(correct)\n",
    "print(\"[INFO] Score: {:.0f}%\".format(score))\n",
    "cv2.putText(paper, \"{:.0f}%\".format(score), (10, 30),\n",
    "cv2.FONT_HERSHEY_SIMPLEX, 0.9, (0, 0, 255), 2)\n",
    "cv2.imshow(\"Result\", papercopy)\n",
    "cv2.imwrite(\"Result.jpg\", papercopy)\n",
    "cv2.waitKey(10000)\n",
    "cv2.destroyAllWindows()"
   ]
  },
  {
   "cell_type": "code",
   "execution_count": null,
   "metadata": {},
   "outputs": [],
   "source": [
    "def write_to_csv(ans_array, filename):\n",
    "    file=open(filename, \"w+\")\n",
    "    for x in ans_array:\n",
    "        file.write(str(x))\n",
    "        file.write(',')\n",
    "    file.close()    "
   ]
  },
  {
   "cell_type": "code",
   "execution_count": null,
   "metadata": {},
   "outputs": [],
   "source": [
    "write_to_csv(ans_array, \"abc.txt\")"
   ]
  },
  {
   "cell_type": "code",
   "execution_count": null,
   "metadata": {},
   "outputs": [],
   "source": []
  },
  {
   "cell_type": "code",
   "execution_count": null,
   "metadata": {},
   "outputs": [],
   "source": []
  },
  {
   "cell_type": "code",
   "execution_count": null,
   "metadata": {},
   "outputs": [],
   "source": []
  }
 ],
 "metadata": {
  "kernelspec": {
   "display_name": "Python 3",
   "language": "python",
   "name": "python3"
  },
  "language_info": {
   "codemirror_mode": {
    "name": "ipython",
    "version": 3
   },
   "file_extension": ".py",
   "mimetype": "text/x-python",
   "name": "python",
   "nbconvert_exporter": "python",
   "pygments_lexer": "ipython3",
   "version": "3.6.5"
  }
 },
 "nbformat": 4,
 "nbformat_minor": 2
}
