{
 "cells": [
  {
   "cell_type": "code",
   "execution_count": 1,
   "metadata": {},
   "outputs": [],
   "source": [
    "from pyqrcode import QRCode\n",
    "import pyqrcode\n",
    "import png\n",
    "import os\n",
    "import cv2\n",
    "from fpdf import FPDF\n",
    "pdf=FPDF()\n",
    "import img2pdf\n",
    "import matplotlib.pyplot as plt"
   ]
  },
  {
   "cell_type": "code",
   "execution_count": 2,
   "metadata": {},
   "outputs": [],
   "source": [
    "present_dir=os.getcwd()"
   ]
  },
  {
   "cell_type": "code",
   "execution_count": 3,
   "metadata": {},
   "outputs": [],
   "source": [
    "def create_sheet(num_q, state_id, state_name):\n",
    "    d=state_id\n",
    "    sheet=cv2.imread('Sheet%d.png'%num_q)\n",
    "    encoding=(str(num_q)+\":\"+str(state_id)+\":\"+str(state_name)).upper()\n",
    "    qr_code=pyqrcode.create(content=encoding, error='L',version=3)\n",
    "    qr_code.png(present_dir+\"\\%dencoding.png\"%d, scale=15)\n",
    "    QR=cv2.imread(present_dir+\"\\%dencoding.png\"%d)\n",
    "    y=QR.shape[0]\n",
    "    x=QR.shape[1]\n",
    "    font=cv2.FONT_HERSHEY_DUPLEX \n",
    "    vert_offset=1780 ##along x axis\n",
    "    hor_offset=500 ##along y axis\n",
    "    sheet[hor_offset:hor_offset+x,vert_offset:vert_offset+y,]=QR\n",
    "    cv2.imwrite(present_dir+\"\\%dencoding.png\"%d, sheet)\n",
    "    copy=cv2.imread(present_dir+\"\\%dencoding.png\"%d)\n",
    "    base=1050\n",
    "    thickness=3\n",
    "    size=1.5\n",
    "    color=(0,0,0) ##black text\n",
    "    '''\n",
    "    cv2.putText(copy, 'Test:%s'%test_name, (vert_offset-100, base),font, size,color,thickness,cv2.LINE_AA)\n",
    "    cv2.putText(copy, 'School:%s'%school_name, (vert_offset-100, base+60),font, size,color,thickness,cv2.LINE_AA)\n",
    "    cv2.putText(copy, 'Class:%s'%class_id, (vert_offset-100, base+120),font, size, color, thickness,cv2.LINE_AA)\n",
    "    cv2.putText(copy, 'Section:%s'%section_id, (vert_offset-100, base+180),font, size, color ,thickness,cv2.LINE_AA)    \n",
    "    '''\n",
    "    cv2.putText(copy, 'State:%s'%state_name, (vert_offset, base+100),font, size, color ,thickness,cv2.LINE_AA)\n",
    "    \n",
    "    cv2.imwrite(present_dir+r\"\\%dencoding.png\"%d, copy)\n",
    "    with open(present_dir+r\"\\PDFs\\{}({})_{}.pdf\".format(*[state_id, state_name,num_q]), \"wb\") as f:\n",
    "        f.write(img2pdf.convert(present_dir+\"\\%dencoding.png\"%d))\n",
    "    os.remove(present_dir+r\"\\%dencoding.png\"%d)"
   ]
  },
  {
   "cell_type": "code",
   "execution_count": null,
   "metadata": {},
   "outputs": [],
   "source": []
  },
  {
   "cell_type": "code",
   "execution_count": 5,
   "metadata": {},
   "outputs": [],
   "source": [
    "##create_sheet(50, 123456, \"BIHAR\")"
   ]
  },
  {
   "cell_type": "code",
   "execution_count": null,
   "metadata": {},
   "outputs": [],
   "source": []
  }
 ],
 "metadata": {
  "kernelspec": {
   "display_name": "Python 3",
   "language": "python",
   "name": "python3"
  },
  "language_info": {
   "codemirror_mode": {
    "name": "ipython",
    "version": 3
   },
   "file_extension": ".py",
   "mimetype": "text/x-python",
   "name": "python",
   "nbconvert_exporter": "python",
   "pygments_lexer": "ipython3",
   "version": "3.6.5"
  }
 },
 "nbformat": 4,
 "nbformat_minor": 2
}
