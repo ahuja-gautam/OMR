{
 "cells": [
  {
   "cell_type": "code",
   "execution_count": 1,
   "metadata": {},
   "outputs": [],
   "source": [
    "from pyqrcode import QRCode\n",
    "import png\n",
    "import os\n",
    "import cv2\n",
    "from fpdf import FPDF\n",
    "pdf=FPDF()\n",
    "import img2pdf"
   ]
  },
  {
   "cell_type": "code",
   "execution_count": 36,
   "metadata": {},
   "outputs": [],
   "source": [
    "def create_sheet(d,num_q, test_id,school_id, class_id, section_id, test_name, school_name):\n",
    "    if(len(test_name)>22):\n",
    "        raise Exception(\"Test Name should be less than equal to 22 characters\")\n",
    "    if(len(school_name)>22):\n",
    "        raise Exception(\"School Name should be less than equal to 22 characters\") \n",
    "    d=2 ##to indicate name of sheet to overcome overwriting issues\n",
    "    sheet=cv2.imread('Sheet%d.png'%num_q)\n",
    "    encoding=(str(d)+test_id+':'+school_id+':'+class_id+':'+section_id+':'+str(num_q)).upper()\n",
    "    qr_code=pyqrcode.create(content=encoding, error='L',version=3)\n",
    "    qr_code.png(r\"C:\\Users\\Gautam\\Desktop\\OMR\\TEMP\\%dencoding.png\"%d, scale=15)\n",
    "    QR=cv2.imread(r\"C:\\Users\\Gautam\\Desktop\\OMR\\TEMP\\%dencoding.png\"%d)\n",
    "    y=QR.shape[0]\n",
    "    x=QR.shape[1]\n",
    "    font=cv2.FONT_HERSHEY_DUPLEX \n",
    "    vert_offset=1700 ##along x axis\n",
    "    hor_offset=450 ##along y axis\n",
    "    sheet[hor_offset:hor_offset+x,vert_offset:vert_offset+y,]=QR\n",
    "    cv2.imwrite(r\"C:\\Users\\Gautam\\Desktop\\OMR\\TEMP\\%dencoding.png\"%d, sheet)\n",
    "    copy=cv2.imread(r\"C:\\Users\\Gautam\\Desktop\\OMR\\TEMP\\%dencoding.png\"%d)\n",
    "\n",
    "    base=1050\n",
    "    thickness=3\n",
    "    size=1.5\n",
    "    color=(0,0,0) ##black text\n",
    "    cv2.putText(copy, 'Test:%s'%test_name, (vert_offset-100, base),font, size,color,thickness,cv2.LINE_AA)\n",
    "    cv2.putText(copy, 'School:%s'%school_name, (vert_offset-100, base+60),font, size,color,thickness,cv2.LINE_AA)\n",
    "    cv2.putText(copy, 'Class:%s'%class_id, (vert_offset-100, base+120),font, size, color, thickness,cv2.LINE_AA)\n",
    "    cv2.putText(copy, 'Section:%s'%section_id, (vert_offset-100, base+180),font, size, color ,thickness,cv2.LINE_AA)\n",
    "    cv2.imwrite(r\"C:\\Users\\Gautam\\Desktop\\OMR\\TEMP\\%dencoding.png\"%d, copy)\n",
    "    with open(r\"C:\\Users\\Gautam\\Desktop\\OMR\\PDFS\\%dSheet.pdf\"%d, \"wb\") as f:\n",
    "        f.write(img2pdf.convert(r\"C:\\Users\\Gautam\\Desktop\\OMR\\TEMP\\%dencoding.png\"%d))\n",
    "    os.remove(r\"C:\\Users\\Gautam\\Desktop\\OMR\\TEMP\\%dencoding.png\"%d)"
   ]
  },
  {
   "cell_type": "code",
   "execution_count": null,
   "metadata": {},
   "outputs": [],
   "source": [
    "##create_sheet(1, num_q=50,test_id=\"T12Weekly\",school_id=\"123456789987\",class_id=\"123456789987\",section_id=\"123456789987\", test_name='UNNAYAN TEST SERIES12', school_name=\"UNNAYAN SCHOOL 1\")"
   ]
  },
  {
   "cell_type": "code",
   "execution_count": null,
   "metadata": {},
   "outputs": [],
   "source": []
  },
  {
   "cell_type": "code",
   "execution_count": null,
   "metadata": {},
   "outputs": [],
   "source": []
  }
 ],
 "metadata": {
  "kernelspec": {
   "display_name": "Python 3",
   "language": "python",
   "name": "python3"
  },
  "language_info": {
   "codemirror_mode": {
    "name": "ipython",
    "version": 3
   },
   "file_extension": ".py",
   "mimetype": "text/x-python",
   "name": "python",
   "nbconvert_exporter": "python",
   "pygments_lexer": "ipython3",
   "version": "3.6.5"
  }
 },
 "nbformat": 4,
 "nbformat_minor": 2
}
